{
 "cells": [
  {
   "cell_type": "markdown",
   "id": "517cd430",
   "metadata": {},
   "source": [
    "# CE/CZ4045: Natural Language Processing\n",
    "\n",
    "### Assignment 2 - Question 1\n",
    "\n",
    "---"
   ]
  },
  {
   "cell_type": "code",
   "execution_count": 2,
   "id": "3cc60e62",
   "metadata": {},
   "outputs": [],
   "source": [
    "# importing libraries needed\n",
    "# coding: utf-8\n",
    "\n",
    "import argparse\n",
    "import time\n",
    "import math\n",
    "import os\n",
    "import torch\n",
    "import torch.nn as nn\n",
    "import torch.onnx\n",
    "\n",
    "import data\n",
    "import model"
   ]
  },
  {
   "cell_type": "markdown",
   "id": "bb690d43",
   "metadata": {},
   "source": [
    "---\n",
    "#### Part i \n",
    "\n",
    "Download the dataset and the code. The dataset should have three files: train, test, and valid.\n",
    "The code should have basic prepossessing (see data.py) and data loader (see main.py) that\n",
    "you can use for your work. Try to run the code."
   ]
  },
  {
   "cell_type": "code",
   "execution_count": 6,
   "id": "432a182f",
   "metadata": {},
   "outputs": [
    {
     "name": "stdout",
     "output_type": "stream",
     "text": [
      "| epoch   1 |   200/ 2983 batches | lr 20.00 | ms/batch 1128.49 | loss  7.63 | ppl  2062.34\n",
      "| epoch   1 |   400/ 2983 batches | lr 20.00 | ms/batch 1124.22 | loss  6.86 | ppl   955.95\n",
      "| epoch   1 |   600/ 2983 batches | lr 20.00 | ms/batch 1113.45 | loss  6.48 | ppl   650.53\n",
      "-----------------------------------------------------------------------------------------\n",
      "Exiting from training early\n"
     ]
    },
    {
     "ename": "FileNotFoundError",
     "evalue": "[Errno 2] No such file or directory: 'model.pt'",
     "output_type": "error",
     "traceback": [
      "\u001b[1;31m---------------------------------------------------------------------------\u001b[0m",
      "\u001b[1;31mFileNotFoundError\u001b[0m                         Traceback (most recent call last)",
      "\u001b[1;32m~\\Desktop\\NLPAssignment2\\Q1\\main.py\u001b[0m in \u001b[0;36m<module>\u001b[1;34m\u001b[0m\n\u001b[0;32m    237\u001b[0m \u001b[1;33m\u001b[0m\u001b[0m\n\u001b[0;32m    238\u001b[0m \u001b[1;31m# Load the best saved model.\u001b[0m\u001b[1;33m\u001b[0m\u001b[1;33m\u001b[0m\u001b[1;33m\u001b[0m\u001b[0m\n\u001b[1;32m--> 239\u001b[1;33m \u001b[1;32mwith\u001b[0m \u001b[0mopen\u001b[0m\u001b[1;33m(\u001b[0m\u001b[0margs\u001b[0m\u001b[1;33m.\u001b[0m\u001b[0msave\u001b[0m\u001b[1;33m,\u001b[0m \u001b[1;34m'rb'\u001b[0m\u001b[1;33m)\u001b[0m \u001b[1;32mas\u001b[0m \u001b[0mf\u001b[0m\u001b[1;33m:\u001b[0m\u001b[1;33m\u001b[0m\u001b[1;33m\u001b[0m\u001b[0m\n\u001b[0m\u001b[0;32m    240\u001b[0m     \u001b[0mmodel\u001b[0m \u001b[1;33m=\u001b[0m \u001b[0mtorch\u001b[0m\u001b[1;33m.\u001b[0m\u001b[0mload\u001b[0m\u001b[1;33m(\u001b[0m\u001b[0mf\u001b[0m\u001b[1;33m)\u001b[0m\u001b[1;33m\u001b[0m\u001b[1;33m\u001b[0m\u001b[0m\n\u001b[0;32m    241\u001b[0m     \u001b[1;31m# after load the rnn params are not a continuous chunk of memory\u001b[0m\u001b[1;33m\u001b[0m\u001b[1;33m\u001b[0m\u001b[1;33m\u001b[0m\u001b[0m\n",
      "\u001b[1;31mFileNotFoundError\u001b[0m: [Errno 2] No such file or directory: 'model.pt'"
     ]
    }
   ],
   "source": [
    "%run main.py --epochs 6"
   ]
  },
  {
   "cell_type": "code",
   "execution_count": null,
   "id": "65d59119",
   "metadata": {},
   "outputs": [
    {
     "name": "stdout",
     "output_type": "stream",
     "text": [
      "-----------------------------------------------------------------------------------------\n",
      "--- Part iii ---\n",
      "-----------------------------------------------------------------------------------------\n",
      "| epoch   1 |   200/59674 batches | lr 0.0010 | ms/batch 192.24 | loss  8.01 | ppl  3001.42\n",
      "| epoch   1 |   400/59674 batches | lr 0.0010 | ms/batch 190.00 | loss  7.21 | ppl  1347.81\n",
      "| epoch   1 |   600/59674 batches | lr 0.0010 | ms/batch 195.19 | loss  6.74 | ppl   841.49\n",
      "| epoch   1 |   800/59674 batches | lr 0.0010 | ms/batch 196.74 | loss  6.88 | ppl   975.70\n",
      "| epoch   1 |  1000/59674 batches | lr 0.0010 | ms/batch 209.09 | loss  6.62 | ppl   746.54\n",
      "| epoch   1 |  1200/59674 batches | lr 0.0010 | ms/batch 231.34 | loss  6.40 | ppl   599.56\n",
      "| epoch   1 |  1400/59674 batches | lr 0.0010 | ms/batch 253.84 | loss  6.70 | ppl   813.59\n",
      "| epoch   1 |  1600/59674 batches | lr 0.0010 | ms/batch 257.87 | loss  6.66 | ppl   776.69\n",
      "| epoch   1 |  1800/59674 batches | lr 0.0010 | ms/batch 279.72 | loss  6.48 | ppl   653.85\n",
      "| epoch   1 |  2000/59674 batches | lr 0.0010 | ms/batch 287.24 | loss  6.49 | ppl   656.49\n",
      "| epoch   1 |  2200/59674 batches | lr 0.0010 | ms/batch 281.95 | loss  6.68 | ppl   796.09\n",
      "| epoch   1 |  2400/59674 batches | lr 0.0010 | ms/batch 312.25 | loss  6.33 | ppl   562.09\n",
      "| epoch   1 |  2600/59674 batches | lr 0.0010 | ms/batch 323.11 | loss  6.28 | ppl   533.15\n",
      "| epoch   1 |  2800/59674 batches | lr 0.0010 | ms/batch 332.02 | loss  6.63 | ppl   761.19\n",
      "| epoch   1 |  3000/59674 batches | lr 0.0010 | ms/batch 322.15 | loss  6.11 | ppl   452.46\n",
      "| epoch   1 |  3200/59674 batches | lr 0.0010 | ms/batch 316.94 | loss  6.38 | ppl   589.64\n",
      "| epoch   1 |  3400/59674 batches | lr 0.0010 | ms/batch 339.19 | loss  6.18 | ppl   482.56\n",
      "| epoch   1 |  3600/59674 batches | lr 0.0010 | ms/batch 319.82 | loss  6.32 | ppl   558.09\n",
      "| epoch   1 |  3800/59674 batches | lr 0.0010 | ms/batch 315.30 | loss  6.33 | ppl   558.37\n",
      "| epoch   1 |  4000/59674 batches | lr 0.0010 | ms/batch 325.58 | loss  6.37 | ppl   582.89\n",
      "| epoch   1 |  4200/59674 batches | lr 0.0010 | ms/batch 332.72 | loss  6.39 | ppl   595.47\n",
      "| epoch   1 |  4400/59674 batches | lr 0.0010 | ms/batch 318.38 | loss  6.26 | ppl   523.94\n",
      "| epoch   1 |  4600/59674 batches | lr 0.0010 | ms/batch 307.97 | loss  6.65 | ppl   775.58\n",
      "| epoch   1 |  4800/59674 batches | lr 0.0010 | ms/batch 303.81 | loss  6.18 | ppl   481.13\n",
      "| epoch   1 |  5000/59674 batches | lr 0.0010 | ms/batch 309.40 | loss  6.28 | ppl   535.82\n",
      "| epoch   1 |  5200/59674 batches | lr 0.0010 | ms/batch 316.47 | loss  6.35 | ppl   574.94\n",
      "| epoch   1 |  5400/59674 batches | lr 0.0010 | ms/batch 310.21 | loss  5.98 | ppl   395.39\n",
      "| epoch   1 |  5600/59674 batches | lr 0.0010 | ms/batch 310.15 | loss  6.40 | ppl   600.74\n",
      "| epoch   1 |  5800/59674 batches | lr 0.0010 | ms/batch 322.92 | loss  6.08 | ppl   437.66\n",
      "| epoch   1 |  6000/59674 batches | lr 0.0010 | ms/batch 313.91 | loss  5.74 | ppl   309.90\n",
      "| epoch   1 |  6200/59674 batches | lr 0.0010 | ms/batch 316.37 | loss  6.24 | ppl   514.95\n",
      "| epoch   1 |  6400/59674 batches | lr 0.0010 | ms/batch 323.61 | loss  6.40 | ppl   601.35\n",
      "| epoch   1 |  6600/59674 batches | lr 0.0010 | ms/batch 327.01 | loss  6.50 | ppl   662.59\n",
      "| epoch   1 |  6800/59674 batches | lr 0.0010 | ms/batch 330.30 | loss  6.28 | ppl   532.63\n",
      "| epoch   1 |  7000/59674 batches | lr 0.0010 | ms/batch 334.98 | loss  6.44 | ppl   629.49\n",
      "| epoch   1 |  7200/59674 batches | lr 0.0010 | ms/batch 341.81 | loss  6.37 | ppl   585.83\n",
      "| epoch   1 |  7400/59674 batches | lr 0.0010 | ms/batch 342.77 | loss  6.53 | ppl   685.64\n",
      "| epoch   1 |  7600/59674 batches | lr 0.0010 | ms/batch 338.25 | loss  6.34 | ppl   567.78\n",
      "| epoch   1 |  7800/59674 batches | lr 0.0010 | ms/batch 343.90 | loss  6.34 | ppl   565.87\n",
      "| epoch   1 |  8000/59674 batches | lr 0.0010 | ms/batch 352.22 | loss  6.21 | ppl   495.71\n",
      "| epoch   1 |  8200/59674 batches | lr 0.0010 | ms/batch 348.28 | loss  6.34 | ppl   565.24\n",
      "| epoch   1 |  8400/59674 batches | lr 0.0010 | ms/batch 345.76 | loss  6.54 | ppl   693.42\n",
      "| epoch   1 |  8600/59674 batches | lr 0.0010 | ms/batch 351.68 | loss  6.64 | ppl   767.20\n",
      "| epoch   1 |  8800/59674 batches | lr 0.0010 | ms/batch 347.57 | loss  6.30 | ppl   546.79\n",
      "| epoch   1 |  9000/59674 batches | lr 0.0010 | ms/batch 351.28 | loss  6.33 | ppl   562.70\n",
      "| epoch   1 |  9200/59674 batches | lr 0.0010 | ms/batch 347.88 | loss  5.84 | ppl   343.11\n",
      "| epoch   1 |  9400/59674 batches | lr 0.0010 | ms/batch 352.34 | loss  6.52 | ppl   681.24\n",
      "| epoch   1 |  9600/59674 batches | lr 0.0010 | ms/batch 347.60 | loss  6.41 | ppl   605.47\n",
      "| epoch   1 |  9800/59674 batches | lr 0.0010 | ms/batch 357.56 | loss  6.17 | ppl   476.75\n",
      "| epoch   1 | 10000/59674 batches | lr 0.0010 | ms/batch 357.47 | loss  6.18 | ppl   483.45\n",
      "| epoch   1 | 10200/59674 batches | lr 0.0010 | ms/batch 354.13 | loss  6.32 | ppl   558.06\n",
      "| epoch   1 | 10400/59674 batches | lr 0.0010 | ms/batch 357.11 | loss  6.11 | ppl   450.60\n",
      "| epoch   1 | 10600/59674 batches | lr 0.0010 | ms/batch 344.63 | loss  6.35 | ppl   571.88\n",
      "| epoch   1 | 10800/59674 batches | lr 0.0010 | ms/batch 344.11 | loss  6.36 | ppl   577.29\n",
      "| epoch   1 | 11000/59674 batches | lr 0.0010 | ms/batch 344.34 | loss  6.38 | ppl   588.97\n",
      "| epoch   1 | 11200/59674 batches | lr 0.0010 | ms/batch 335.55 | loss  6.21 | ppl   499.97\n",
      "| epoch   1 | 11400/59674 batches | lr 0.0010 | ms/batch 333.25 | loss  6.26 | ppl   524.41\n",
      "| epoch   1 | 11600/59674 batches | lr 0.0010 | ms/batch 332.05 | loss  6.42 | ppl   615.20\n",
      "| epoch   1 | 11800/59674 batches | lr 0.0010 | ms/batch 332.65 | loss  6.09 | ppl   441.53\n",
      "| epoch   1 | 12000/59674 batches | lr 0.0010 | ms/batch 332.56 | loss  5.98 | ppl   395.73\n",
      "| epoch   1 | 12200/59674 batches | lr 0.0010 | ms/batch 332.57 | loss  6.22 | ppl   503.94\n",
      "| epoch   1 | 12400/59674 batches | lr 0.0010 | ms/batch 334.16 | loss  6.10 | ppl   446.14\n",
      "| epoch   1 | 12600/59674 batches | lr 0.0010 | ms/batch 336.50 | loss  5.97 | ppl   393.24\n",
      "| epoch   1 | 12800/59674 batches | lr 0.0010 | ms/batch 340.53 | loss  6.25 | ppl   518.39\n",
      "| epoch   1 | 13000/59674 batches | lr 0.0010 | ms/batch 350.66 | loss  6.18 | ppl   480.91\n",
      "| epoch   1 | 13200/59674 batches | lr 0.0010 | ms/batch 347.16 | loss  6.27 | ppl   528.06\n",
      "| epoch   1 | 13400/59674 batches | lr 0.0010 | ms/batch 341.48 | loss  6.31 | ppl   549.74\n",
      "| epoch   1 | 13600/59674 batches | lr 0.0010 | ms/batch 352.12 | loss  6.13 | ppl   461.15\n",
      "| epoch   1 | 13800/59674 batches | lr 0.0010 | ms/batch 355.65 | loss  5.73 | ppl   308.89\n",
      "| epoch   1 | 14000/59674 batches | lr 0.0010 | ms/batch 352.26 | loss  5.98 | ppl   393.92\n",
      "| epoch   1 | 14200/59674 batches | lr 0.0010 | ms/batch 350.33 | loss  6.06 | ppl   428.65\n",
      "| epoch   1 | 14400/59674 batches | lr 0.0010 | ms/batch 354.16 | loss  6.02 | ppl   409.81\n",
      "| epoch   1 | 14600/59674 batches | lr 0.0010 | ms/batch 345.05 | loss  5.95 | ppl   385.33\n",
      "| epoch   1 | 14800/59674 batches | lr 0.0010 | ms/batch 340.90 | loss  5.85 | ppl   347.61\n",
      "| epoch   1 | 15000/59674 batches | lr 0.0010 | ms/batch 343.06 | loss  6.05 | ppl   422.35\n",
      "| epoch   1 | 15200/59674 batches | lr 0.0010 | ms/batch 345.34 | loss  6.46 | ppl   636.06\n",
      "| epoch   1 | 15400/59674 batches | lr 0.0010 | ms/batch 346.90 | loss  5.93 | ppl   376.98\n",
      "| epoch   1 | 15600/59674 batches | lr 0.0010 | ms/batch 347.09 | loss  6.53 | ppl   684.01\n",
      "| epoch   1 | 15800/59674 batches | lr 0.0010 | ms/batch 349.97 | loss  5.87 | ppl   355.18\n",
      "| epoch   1 | 16000/59674 batches | lr 0.0010 | ms/batch 344.58 | loss  6.22 | ppl   504.99\n",
      "| epoch   1 | 16200/59674 batches | lr 0.0010 | ms/batch 343.52 | loss  6.31 | ppl   552.24\n",
      "| epoch   1 | 16400/59674 batches | lr 0.0010 | ms/batch 343.06 | loss  6.33 | ppl   560.57\n",
      "| epoch   1 | 16600/59674 batches | lr 0.0010 | ms/batch 341.38 | loss  5.89 | ppl   360.87\n",
      "| epoch   1 | 16800/59674 batches | lr 0.0010 | ms/batch 342.35 | loss  6.05 | ppl   423.95\n",
      "| epoch   1 | 17000/59674 batches | lr 0.0010 | ms/batch 344.15 | loss  5.59 | ppl   266.47\n",
      "| epoch   1 | 17200/59674 batches | lr 0.0010 | ms/batch 348.88 | loss  5.93 | ppl   377.46\n",
      "| epoch   1 | 17400/59674 batches | lr 0.0010 | ms/batch 345.70 | loss  5.61 | ppl   273.83\n"
     ]
    },
    {
     "name": "stdout",
     "output_type": "stream",
     "text": [
      "| epoch   1 | 17600/59674 batches | lr 0.0010 | ms/batch 347.20 | loss  6.18 | ppl   483.84\n",
      "| epoch   1 | 17800/59674 batches | lr 0.0010 | ms/batch 349.00 | loss  6.07 | ppl   434.66\n",
      "| epoch   1 | 18000/59674 batches | lr 0.0010 | ms/batch 349.53 | loss  5.17 | ppl   175.64\n",
      "| epoch   1 | 18200/59674 batches | lr 0.0010 | ms/batch 345.57 | loss  6.38 | ppl   588.34\n",
      "| epoch   1 | 18400/59674 batches | lr 0.0010 | ms/batch 343.02 | loss  5.96 | ppl   388.95\n",
      "| epoch   1 | 18600/59674 batches | lr 0.0010 | ms/batch 342.02 | loss  6.28 | ppl   535.61\n",
      "| epoch   1 | 18800/59674 batches | lr 0.0010 | ms/batch 343.65 | loss  6.19 | ppl   486.91\n",
      "| epoch   1 | 19000/59674 batches | lr 0.0010 | ms/batch 345.51 | loss  5.98 | ppl   395.56\n"
     ]
    }
   ],
   "source": [
    "%run Q1_main.py --epochs 3"
   ]
  },
  {
   "cell_type": "code",
   "execution_count": null,
   "id": "c3dbc991",
   "metadata": {},
   "outputs": [],
   "source": []
  },
  {
   "cell_type": "code",
   "execution_count": null,
   "id": "7d93a63c",
   "metadata": {},
   "outputs": [],
   "source": []
  }
 ],
 "metadata": {
  "kernelspec": {
   "display_name": "Python 3",
   "language": "python",
   "name": "python3"
  },
  "language_info": {
   "codemirror_mode": {
    "name": "ipython",
    "version": 3
   },
   "file_extension": ".py",
   "mimetype": "text/x-python",
   "name": "python",
   "nbconvert_exporter": "python",
   "pygments_lexer": "ipython3",
   "version": "3.8.12"
  }
 },
 "nbformat": 4,
 "nbformat_minor": 5
}
