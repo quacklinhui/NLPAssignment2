{
 "cells": [
  {
   "cell_type": "code",
   "execution_count": 1,
   "id": "3cc60e62",
   "metadata": {},
   "outputs": [],
   "source": [
    "# importing libraries needed\n",
    "# coding: utf-8\n",
    "\n",
    "import argparse\n",
    "import time\n",
    "import math\n",
    "import os\n",
    "import torch\n",
    "import torch.nn as nn\n",
    "import torch.onnx\n",
    "\n",
    "import data\n",
    "import model"
   ]
  },
  {
   "cell_type": "markdown",
   "id": "bb690d43",
   "metadata": {},
   "source": [
    "(i) Download the dataset and the code. The dataset should have three files: train, test, and valid.\n",
    "The code should have basic prepossessing (see data.py) and data loader (see main.py) that\n",
    "you can use for your work. Try to run the code."
   ]
  },
  {
   "cell_type": "code",
   "execution_count": null,
   "id": "432a182f",
   "metadata": {},
   "outputs": [],
   "source": [
    "%run main.py --cuda --epochs 6"
   ]
  },
  {
   "cell_type": "code",
   "execution_count": null,
   "id": "65d59119",
   "metadata": {},
   "outputs": [],
   "source": []
  }
 ],
 "metadata": {
  "kernelspec": {
   "display_name": "Python 3",
   "language": "python",
   "name": "python3"
  },
  "language_info": {
   "codemirror_mode": {
    "name": "ipython",
    "version": 3
   },
   "file_extension": ".py",
   "mimetype": "text/x-python",
   "name": "python",
   "nbconvert_exporter": "python",
   "pygments_lexer": "ipython3",
   "version": "3.8.12"
  }
 },
 "nbformat": 4,
 "nbformat_minor": 5
}
